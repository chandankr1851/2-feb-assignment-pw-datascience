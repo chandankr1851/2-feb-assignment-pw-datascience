{
 "cells": [
  {
   "cell_type": "code",
   "execution_count": 4,
   "id": "03ad6a3f-2446-4a5f-9f06-56c2966c4832",
   "metadata": {},
   "outputs": [
    {
     "ename": "SyntaxError",
     "evalue": "unterminated string literal (detected at line 19) (2806215913.py, line 19)",
     "output_type": "error",
     "traceback": [
      "\u001b[0;36m  Cell \u001b[0;32mIn[4], line 19\u001b[0;36m\u001b[0m\n\u001b[0;31m    We don't know how many times we will need to ask for their name,\u001b[0m\n\u001b[0m          ^\u001b[0m\n\u001b[0;31mSyntaxError\u001b[0m\u001b[0;31m:\u001b[0m unterminated string literal (detected at line 19)\n"
     ]
    }
   ],
   "source": [
    "Q1.  Explain with an example each when to use a for loop and a while loop. \n",
    "\n",
    "A for loop is used when we know the number of times we want to execute a block of code,\n",
    "and a while loop is used when we want to execute a block of code as long as a certain condition is true.\n",
    "\n",
    "Example of when to use a for loop:\n",
    "Suppose we want to print the numbers from 1 to 10. \n",
    "We know exactly how many times we need to execute the loop,\n",
    "so we can use a for loop to iterate over the numbers and print them.\n",
    "\n",
    "for i in range(1, 11):\n",
    "    print(i)\n",
    "\n",
    "In this example, the for loop will execute 10 times, once for each number from 1 to 10.\n",
    "\n",
    "Example of when to use a while loop:\n",
    "    \n",
    "Suppose we want to keep asking a user for their name until they enter a valid input. \n",
    "We don't know how many times we will need to ask for their name, \n",
    "so we can use a while loop to keep asking until we get a valid input.\n",
    "name = \"\"\n",
    "while not name:\n",
    "    name = input(\"What is your name? \")\n",
    "\n",
    "In this example, the while loop will continue to execute as long as\n",
    "the user has not entered a valid name. Once the user enters a name, \n",
    "the loop will exit and the program will continue executing.\n",
    "\n",
    "\n",
    "\n",
    "2.Write a python program to print the sum and product of the first 10 natural numbers using for  and while loop\n"
   ]
  },
  {
   "cell_type": "code",
   "execution_count": 5,
   "id": "9cf53f51-b604-46cb-b48b-1c3b28760035",
   "metadata": {},
   "outputs": [
    {
     "name": "stdout",
     "output_type": "stream",
     "text": [
      "Sum of first 10 natural numbers: 55\n",
      "Product of first 10 natural numbers: 3628800\n"
     ]
    }
   ],
   "source": [
    "# Sum of first 10 natural numbers using for loop\n",
    "sum = 0\n",
    "for i in range(1, 11):\n",
    "    sum += i\n",
    "print(\"Sum of first 10 natural numbers:\", sum)\n",
    "\n",
    "# Product of first 10 natural numbers using for loop\n",
    "product = 1\n",
    "for i in range(1, 11):\n",
    "    product *= i\n",
    "print(\"Product of first 10 natural numbers:\", product)\n"
   ]
  },
  {
   "cell_type": "code",
   "execution_count": 6,
   "id": "eccd2fb5-55ca-4778-a262-c9d6ffc1dbf4",
   "metadata": {},
   "outputs": [
    {
     "name": "stdout",
     "output_type": "stream",
     "text": [
      "Sum of first 10 natural numbers: 55\n",
      "Product of first 10 natural numbers: 3628800\n"
     ]
    }
   ],
   "source": [
    "# Sum of first 10 natural numbers using while loop\n",
    "sum = 0\n",
    "i = 1\n",
    "while i <= 10:\n",
    "    sum += i\n",
    "    i += 1\n",
    "print(\"Sum of first 10 natural numbers:\", sum)\n",
    "\n",
    "# Product of first 10 natural numbers using while loop\n",
    "product = 1\n",
    "i = 1\n",
    "while i <= 10:\n",
    "    product *= i\n",
    "    i += 1\n",
    "print(\"Product of first 10 natural numbers:\", product)\n"
   ]
  },
  {
   "cell_type": "code",
   "execution_count": 9,
   "id": "56d33328-cbd9-495d-89c0-06e84728ba91",
   "metadata": {},
   "outputs": [],
   "source": [
    "#Q3. Create a python program to compute the electricity bill for a household. \n",
    "\n"
   ]
  },
  {
   "cell_type": "code",
   "execution_count": 10,
   "id": "8d537f99-ba93-4818-9a20-166edccd8009",
   "metadata": {},
   "outputs": [
    {
     "name": "stdin",
     "output_type": "stream",
     "text": [
      "Enter number of units consumed:  200\n"
     ]
    },
    {
     "name": "stdout",
     "output_type": "stream",
     "text": [
      "Electricity bill: Rs. 1050.0\n"
     ]
    }
   ],
   "source": [
    "\n",
    "units = int(input(\"Enter number of units consumed: \"))\n",
    "\n",
    "# Calculate the electricity bill based on the per-unit charges\n",
    "if units <= 100:\n",
    "    bill = units * 4.5\n",
    "elif units <= 200:\n",
    "    bill = 100 * 4.5 + (units - 100) * 6\n",
    "elif units <= 300:\n",
    "    bill = 100 * 4.5 + 100 * 6 + (units - 200) * 10\n",
    "else:\n",
    "    bill = 100 * 4.5 + 100 * 6 + 100 * 10 + (units - 300) * 20\n",
    "\n",
    "# Print the final amount of the electricity bill\n",
    "print(\"Electricity bill: Rs.\", bill)\n"
   ]
  },
  {
   "cell_type": "code",
   "execution_count": 11,
   "id": "1aaa0344-9ab5-4650-a57b-1fe9704fc925",
   "metadata": {},
   "outputs": [],
   "source": [
    " #Q4.Create a list of numbers from 1 to 100. Use for loop and while loop to calculate the cube of each number and if the cube of that number is divisible by 4 or 5 then append that number in a list and print  that list. \n"
   ]
  },
  {
   "cell_type": "code",
   "execution_count": 12,
   "id": "53ef7295-dd86-4c64-bb3b-4296be174912",
   "metadata": {},
   "outputs": [
    {
     "name": "stdout",
     "output_type": "stream",
     "text": [
      "Numbers whose cube is divisible by 4 or 5:  [2, 4, 5, 6, 8, 10, 12, 14, 15, 16, 18, 20, 22, 24, 25, 26, 28, 30, 32, 34, 35, 36, 38, 40, 42, 44, 45, 46, 48, 50, 52, 54, 55, 56, 58, 60, 62, 64, 65, 66, 68, 70, 72, 74, 75, 76, 78, 80, 82, 84, 85, 86, 88, 90, 92, 94, 95, 96, 98, 100]\n"
     ]
    }
   ],
   "source": [
    "# Using for loop\n",
    "cubes = []\n",
    "for i in range(1, 101):\n",
    "    cube = i ** 3\n",
    "    if cube % 4 == 0 or cube % 5 == 0:\n",
    "        cubes.append(i)\n",
    "print(\"Numbers whose cube is divisible by 4 or 5: \", cubes)\n",
    "\n"
   ]
  },
  {
   "cell_type": "code",
   "execution_count": 13,
   "id": "222045b1-772f-40a2-ba46-a35a42f7e480",
   "metadata": {},
   "outputs": [
    {
     "name": "stdout",
     "output_type": "stream",
     "text": [
      "Numbers whose cube is divisible by 4 or 5:  [2, 4, 5, 6, 8, 10, 12, 14, 15, 16, 18, 20, 22, 24, 25, 26, 28, 30, 32, 34, 35, 36, 38, 40, 42, 44, 45, 46, 48, 50, 52, 54, 55, 56, 58, 60, 62, 64, 65, 66, 68, 70, 72, 74, 75, 76, 78, 80, 82, 84, 85, 86, 88, 90, 92, 94, 95, 96, 98, 100]\n"
     ]
    }
   ],
   "source": [
    "# Using while loop\n",
    "cubes = []\n",
    "i = 1\n",
    "while i <= 100:\n",
    "    cube = i ** 3\n",
    "    if cube % 4 == 0 or cube % 5 == 0:\n",
    "        cubes.append(i)\n",
    "    i += 1\n",
    "print(\"Numbers whose cube is divisible by 4 or 5: \", cubes)\n"
   ]
  },
  {
   "cell_type": "code",
   "execution_count": 14,
   "id": "03506343-d787-453b-945b-81bd51a16ed2",
   "metadata": {},
   "outputs": [
    {
     "name": "stdout",
     "output_type": "stream",
     "text": [
      "The number of vowels in the string is: 12\n"
     ]
    }
   ],
   "source": [
    "#Q4.Write a program to filter count vowels in the below-given string. \n",
    "#string = \"I want to become a data scientist\" \n",
    "\n",
    "# Define a function to count vowels\n",
    "def count_vowels(string):\n",
    "    vowels = \"aeiouAEIOU\"\n",
    "    count = 0\n",
    "    for char in string:\n",
    "        if char in vowels:\n",
    "            count += 1\n",
    "    return count\n",
    "\n",
    "# Define the string\n",
    "string = \"I want to become a data scientist\"\n",
    "\n",
    "# Call the function and print the result\n",
    "num_vowels = count_vowels(string)\n",
    "print(\"The number of vowels in the string is:\", num_vowels)\n"
   ]
  },
  {
   "cell_type": "code",
   "execution_count": null,
   "id": "ef6f8da2-b35c-4e22-b0f8-c9b1626862b0",
   "metadata": {},
   "outputs": [],
   "source": []
  }
 ],
 "metadata": {
  "kernelspec": {
   "display_name": "Python 3 (ipykernel)",
   "language": "python",
   "name": "python3"
  },
  "language_info": {
   "codemirror_mode": {
    "name": "ipython",
    "version": 3
   },
   "file_extension": ".py",
   "mimetype": "text/x-python",
   "name": "python",
   "nbconvert_exporter": "python",
   "pygments_lexer": "ipython3",
   "version": "3.10.8"
  }
 },
 "nbformat": 4,
 "nbformat_minor": 5
}
